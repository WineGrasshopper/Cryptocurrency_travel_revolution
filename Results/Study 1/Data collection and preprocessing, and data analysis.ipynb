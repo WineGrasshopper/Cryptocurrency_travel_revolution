{
 "cells": [
  {
   "cell_type": "markdown",
   "id": "41c7707d",
   "metadata": {},
   "source": [
    "# Study 1"
   ]
  },
  {
   "cell_type": "markdown",
   "id": "ab70cb00",
   "metadata": {},
   "source": [
    "## 3.1. Data collection and preprocessing, and data analysis "
   ]
  },
  {
   "cell_type": "markdown",
   "id": "5c9bc600",
   "metadata": {},
   "source": [
    "### First"
   ]
  },
  {
   "cell_type": "code",
   "execution_count": 14,
   "id": "ea122d00",
   "metadata": {},
   "outputs": [],
   "source": [
    "import pandas as pd"
   ]
  },
  {
   "cell_type": "code",
   "execution_count": 15,
   "id": "209fedb0",
   "metadata": {},
   "outputs": [],
   "source": [
    "# Read to Excel\n",
    "df = pd.read_excel('C:/Users/wogus/OneDrive/바탕 화면/Integrate data/Alternative Airline+CHEAPAIR+DESTINA+TRUST.xlsx')"
   ]
  },
  {
   "cell_type": "code",
   "execution_count": 16,
   "id": "a5acfc98",
   "metadata": {},
   "outputs": [
    {
     "name": "stdout",
     "output_type": "stream",
     "text": [
      "Thus, the OTAs were deemed representative, and a total of 30,499 reviews collected, totaling 623,652 words, approximately 20 words per comment.\n"
     ]
    }
   ],
   "source": [
    "# 'Review_body' Counts of words\n",
    "df['word_count'] = df['Review_body'].astype(str).str.split().str.len()\n",
    "total_words = df['word_count'].sum()\n",
    "\n",
    "# Total reviews\n",
    "total_reviews = len(df)\n",
    "\n",
    "# Average words\n",
    "avg_words_per_review = round(total_words / total_reviews)\n",
    "\n",
    "# Results\n",
    "print(f\"Thus, the OTAs were deemed representative, and a total of {total_reviews:,} reviews collected, totaling {total_words:,} words, approximately {avg_words_per_review} words per comment.\")"
   ]
  },
  {
   "cell_type": "markdown",
   "id": "081d21e6",
   "metadata": {},
   "source": [
    "### Second"
   ]
  },
  {
   "cell_type": "code",
   "execution_count": 17,
   "id": "44cd4149",
   "metadata": {},
   "outputs": [],
   "source": [
    "# Read to Excel\n",
    "df = pd.read_excel('C:/Users/wogus/OneDrive/바탕 화면/Integrate data/Cleaned_Alternative_Airline_CHEAPAIR_DESTINA_TRUST_v2(without non-English, imoji etc).xlsx')"
   ]
  },
  {
   "cell_type": "code",
   "execution_count": 18,
   "id": "07e3c5a7",
   "metadata": {},
   "outputs": [
    {
     "name": "stdout",
     "output_type": "stream",
     "text": [
      "Thus, the OTAs were deemed representative, and a total of 20,826 reviews collected, totaling 484,566 words, approximately 23 words per comment.\n"
     ]
    }
   ],
   "source": [
    "# 'Review_body' Counts of words\n",
    "df['word_count'] = df['Review_body'].astype(str).str.split().str.len()\n",
    "total_words = df['word_count'].sum()\n",
    "\n",
    "# Total reviews\n",
    "total_reviews = len(df)\n",
    "\n",
    "# Average words\n",
    "avg_words_per_review = round(total_words / total_reviews)\n",
    "\n",
    "# Results\n",
    "print(f\"Thus, the OTAs were deemed representative, and a total of {total_reviews:,} reviews collected, totaling {total_words:,} words, approximately {avg_words_per_review} words per comment.\")"
   ]
  },
  {
   "cell_type": "code",
   "execution_count": null,
   "id": "a9998212",
   "metadata": {},
   "outputs": [],
   "source": []
  }
 ],
 "metadata": {
  "kernelspec": {
   "display_name": "Python 3 (ipykernel)",
   "language": "python",
   "name": "python3"
  },
  "language_info": {
   "codemirror_mode": {
    "name": "ipython",
    "version": 3
   },
   "file_extension": ".py",
   "mimetype": "text/x-python",
   "name": "python",
   "nbconvert_exporter": "python",
   "pygments_lexer": "ipython3",
   "version": "3.9.7"
  }
 },
 "nbformat": 4,
 "nbformat_minor": 5
}
